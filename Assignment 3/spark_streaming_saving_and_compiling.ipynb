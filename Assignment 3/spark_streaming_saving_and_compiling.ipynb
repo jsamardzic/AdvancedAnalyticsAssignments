{
 "cells": [
  {
   "cell_type": "code",
   "execution_count": 1,
   "metadata": {},
   "outputs": [],
   "source": [
    "import threading\n",
    "# Helper thread to avoid the Spark StreamingContext from blocking Jupyter\n",
    "class StreamingThread(threading.Thread):\n",
    "    def __init__(self, ssc):\n",
    "        super().__init__()\n",
    "        self.ssc = ssc\n",
    "    def run(self):\n",
    "        self.ssc.start()\n",
    "        self.ssc.awaitTermination()\n",
    "    def stop(self):\n",
    "        print('----- Stopping... this may take a few seconds -----')\n",
    "        self.ssc.stop(stopSparkContext=False, stopGraceFully=True)"
   ]
  },
  {
   "cell_type": "code",
   "execution_count": 2,
   "metadata": {},
   "outputs": [
    {
     "data": {
      "text/html": [
       "\n",
       "        <div>\n",
       "            <p><b>SparkContext</b></p>\n",
       "\n",
       "            <p><a href=\"http://ACER:4040\">Spark UI</a></p>\n",
       "\n",
       "            <dl>\n",
       "              <dt>Version</dt>\n",
       "                <dd><code>v3.5.1</code></dd>\n",
       "              <dt>Master</dt>\n",
       "                <dd><code>local[*]</code></dd>\n",
       "              <dt>AppName</dt>\n",
       "                <dd><code>PySparkShell</code></dd>\n",
       "            </dl>\n",
       "        </div>\n",
       "        "
      ],
      "text/plain": [
       "<SparkContext master=local[*] appName=PySparkShell>"
      ]
     },
     "execution_count": 2,
     "metadata": {},
     "output_type": "execute_result"
    }
   ],
   "source": [
    "sc"
   ]
  },
  {
   "cell_type": "code",
   "execution_count": 3,
   "metadata": {},
   "outputs": [],
   "source": [
    "import os\n",
    "from pyspark.streaming import StreamingContext"
   ]
  },
  {
   "cell_type": "code",
   "execution_count": 4,
   "metadata": {},
   "outputs": [
    {
     "name": "stderr",
     "output_type": "stream",
     "text": [
      "C:\\Users\\Dillon\\Desktop\\spark\\spark-3.5.1-bin-hadoop3\\python\\pyspark\\streaming\\context.py:72: FutureWarning: DStream is deprecated as of Spark 3.4.0. Migrate to Structured Streaming.\n",
      "  warnings.warn(\n"
     ]
    }
   ],
   "source": [
    "# Save less frequently and create less subdirectories. I.e. every 120 seconds\n",
    "ssc = StreamingContext(sc, 120)"
   ]
  },
  {
   "cell_type": "code",
   "execution_count": 5,
   "metadata": {
    "scrolled": true
   },
   "outputs": [],
   "source": [
    "lines = ssc.socketTextStream(\"seppe.net\", 7778)"
   ]
  },
  {
   "cell_type": "code",
   "execution_count": 6,
   "metadata": {},
   "outputs": [
    {
     "name": "stdout",
     "output_type": "stream",
     "text": [
      "Saving to C:\\Users\\Dillon\\Desktop\\spark\\notebooks\\saved_stories\n"
     ]
    }
   ],
   "source": [
    "out_dir = f\"{os.path.abspath('')}{os.path.sep}saved_stories\"\n",
    "lines.saveAsTextFiles(f\"file:///{out_dir}\")\n",
    "print(\"Saving to\", out_dir)"
   ]
  },
  {
   "cell_type": "code",
   "execution_count": 7,
   "metadata": {},
   "outputs": [],
   "source": [
    "ssc_t = StreamingThread(ssc)\n",
    "ssc_t.start()"
   ]
  },
  {
   "cell_type": "code",
   "execution_count": null,
   "metadata": {},
   "outputs": [
    {
     "name": "stdout",
     "output_type": "stream",
     "text": [
      "----- Stopping... this may take a few seconds -----\n"
     ]
    }
   ],
   "source": [
    "# Don't run this cell unless you want to stop. You should see subdirectories appear in the out_dir\n",
    "ssc_t.stop()"
   ]
  },
  {
   "cell_type": "code",
   "execution_count": null,
   "metadata": {},
   "outputs": [],
   "source": [
    "import json\n",
    "# Function to read and parse specific files from a directory and its subdirectories\n",
    "def read_text_files(base_directory):\n",
    "    data = []\n",
    "    for root, dirs, files in os.walk(base_directory):\n",
    "        for file in files:\n",
    "            if file.startswith(\"part\"):# Check if the file name starts with \"part\"\n",
    "                file_path = os.path.join(root, file)\n",
    "                with open(file_path, \"r\", encoding=\"utf-8\") as f:\n",
    "                    content = f.read().strip()# Read the entire content of the file\n",
    "                    # Split content by newlines to handle multiple JSON objects\n",
    "                    json_objects = content.split('\\n')\n",
    "                    for json_obj in json_objects:\n",
    "                        if json_obj.strip():# Check if the line is not empty\n",
    "                            try:\n",
    "                                line_data = json.loads(json_obj)\n",
    "                                data.append(line_data)# Append the dictionary to the data list\n",
    "                            except json.JSONDecodeError as e:\n",
    "                                print(f\"Error decoding JSON from file {file_path}: {e}\")\n",
    "                                continue\n",
    "    return pd.DataFrame(data)\n",
    "\n",
    "# Base directory where the text files are located \n",
    "base_directory = \"C:\\\\Users\\\\Dillon\\\\Desktop\\\\spark\\\\notebooks\\\\saved_stories\" #### YOUR DIRECTORY HERE ####\n",
    "# Read the text files and store in a DataFrame\n",
    "raw_df = read_text_files(base_directory)\n",
    "# Save the DataFrame to a csv file\n",
    "raw_df.to_csv(\"assignment3_DIRTY.csv\", index=False)"
   ]
  }
 ],
 "metadata": {
  "kernelspec": {
   "display_name": "Python 3 (ipykernel)",
   "language": "python",
   "name": "python3"
  },
  "language_info": {
   "codemirror_mode": {
    "name": "ipython",
    "version": 3
   },
   "file_extension": ".py",
   "mimetype": "text/x-python",
   "name": "python",
   "nbconvert_exporter": "python",
   "pygments_lexer": "ipython3",
   "version": "3.11.5"
  },
  "toc": {
   "base_numbering": 1,
   "nav_menu": {},
   "number_sections": true,
   "sideBar": true,
   "skip_h1_title": false,
   "title_cell": "Table of Contents",
   "title_sidebar": "Contents",
   "toc_cell": false,
   "toc_position": {},
   "toc_section_display": true,
   "toc_window_display": false
  }
 },
 "nbformat": 4,
 "nbformat_minor": 4
}
