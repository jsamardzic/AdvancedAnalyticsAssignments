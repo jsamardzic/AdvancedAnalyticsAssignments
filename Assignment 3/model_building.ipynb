{
 "cells": [
  {
   "cell_type": "markdown",
   "id": "6e40ea18",
   "metadata": {},
   "source": [
    "# Developing Features"
   ]
  },
  {
   "cell_type": "code",
   "execution_count": 10,
   "id": "5f8e4a72",
   "metadata": {},
   "outputs": [],
   "source": [
    "import numpy as np\n",
    "import pandas as pd\n",
    "# for working with spark\n",
    "import pyspark\n",
    "# for plotting\n",
    "import matplotlib.pyplot as plt\n",
    "import seaborn as sns\n",
    "from sklearn.model_selection import train_test_split\n",
    "# pipeline to transform data\n",
    "from pyspark.ml import Pipeline \n",
    "# to initiate spark\n",
    "from pyspark.sql import SparkSession \n",
    "# to allow us to work with VectorAssembler\n",
    "from pyspark.ml.linalg import Vectors \n",
    "from pyspark.ml.feature import VectorAssembler,\\\n",
    "RegexTokenizer, StopWordsRemover, HashingTF, IDF, IDFModel\n",
    "from pyspark.sql.types import FloatType\n",
    "from pyspark.ml.classification import LogisticRegression, LogisticRegressionModel\n",
    "from pyspark.ml.evaluation import BinaryClassificationEvaluator \n",
    "from pyspark.ml.pipeline import PipelineModel"
   ]
  },
  {
   "cell_type": "code",
   "execution_count": 11,
   "id": "44e1adc8",
   "metadata": {},
   "outputs": [],
   "source": [
    "spark = SparkSession.builder \\\n",
    "    .appName(\"AABDW Assignment 3\") \\\n",
    "    .getOrCreate()"
   ]
  },
  {
   "cell_type": "markdown",
   "id": "5c633ac0",
   "metadata": {},
   "source": [
    "# Data Cleaning"
   ]
  },
  {
   "cell_type": "code",
   "execution_count": 12,
   "id": "e6b7b370",
   "metadata": {},
   "outputs": [
    {
     "data": {
      "text/plain": [
       "aid                                                      39890863\n",
       "title           A new podcast examines the perils of intense m...\n",
       "url             https://www.npr.org/sections/health-shots/2024...\n",
       "domain                                                    npr.org\n",
       "votes                                                           1\n",
       "user                                                      cempaka\n",
       "posted_at                                     2024-04-01 04:13:32\n",
       "comments                                                        0\n",
       "source_title    A new podcast examines the perils of intense m...\n",
       "source_text     Meditation can have dangerous effects on menta...\n",
       "frontpage                                                   False\n",
       "Name: 1, dtype: object"
      ]
     },
     "execution_count": 12,
     "metadata": {},
     "output_type": "execute_result"
    }
   ],
   "source": [
    "## Read in dataset of combined JSON files\n",
    "df = pd.read_csv(\"assignment3_DIRTY.csv\")\n",
    "# Display the DataFrame\n",
    "df.iloc[1]"
   ]
  },
  {
   "cell_type": "code",
   "execution_count": 13,
   "id": "eb97508b",
   "metadata": {},
   "outputs": [
    {
     "data": {
      "text/plain": [
       "aid\n",
       "40127574    3\n",
       "40129904    2\n",
       "40129833    2\n",
       "40074331    2\n",
       "40049985    2\n",
       "           ..\n",
       "40133700    1\n",
       "40133687    1\n",
       "40133680    1\n",
       "40133670    1\n",
       "40425156    1\n",
       "Name: count, Length: 19515, dtype: int64"
      ]
     },
     "execution_count": 13,
     "metadata": {},
     "output_type": "execute_result"
    }
   ],
   "source": [
    "## Drop duplicate rows from the dataset\n",
    "df=df.drop_duplicates()\n",
    "## Checking for remaining duplicates based on the article ID \n",
    "## (some duplicate articles may not differ in all columns)\n",
    "df[\"aid\"].value_counts()"
   ]
  },
  {
   "cell_type": "markdown",
   "id": "9efcbdac",
   "metadata": {},
   "source": [
    "Some instances of the same article differ in their features. On closer inspection, it seems that most of these discrepancies are accounted for by the Financial Times changing editing the content of their _source_text_ over time."
   ]
  },
  {
   "cell_type": "code",
   "execution_count": 14,
   "id": "d25a8431",
   "metadata": {},
   "outputs": [
    {
     "data": {
      "text/html": [
       "<div>\n",
       "<style scoped>\n",
       "    .dataframe tbody tr th:only-of-type {\n",
       "        vertical-align: middle;\n",
       "    }\n",
       "\n",
       "    .dataframe tbody tr th {\n",
       "        vertical-align: top;\n",
       "    }\n",
       "\n",
       "    .dataframe thead th {\n",
       "        text-align: right;\n",
       "    }\n",
       "</style>\n",
       "<table border=\"1\" class=\"dataframe\">\n",
       "  <thead>\n",
       "    <tr style=\"text-align: right;\">\n",
       "      <th></th>\n",
       "      <th>aid</th>\n",
       "      <th>title</th>\n",
       "      <th>url</th>\n",
       "      <th>domain</th>\n",
       "      <th>votes</th>\n",
       "      <th>user</th>\n",
       "      <th>posted_at</th>\n",
       "      <th>comments</th>\n",
       "      <th>source_title</th>\n",
       "      <th>source_text</th>\n",
       "      <th>frontpage</th>\n",
       "      <th>repeats</th>\n",
       "    </tr>\n",
       "  </thead>\n",
       "  <tbody>\n",
       "    <tr>\n",
       "      <th>644</th>\n",
       "      <td>40038439</td>\n",
       "      <td>Samsung's Texas plant will produce 2nm chips b...</td>\n",
       "      <td>https://www.ft.com/content/4124eb79-ea40-411d-...</td>\n",
       "      <td>ft.com</td>\n",
       "      <td>1</td>\n",
       "      <td>granter</td>\n",
       "      <td>2024-04-15 09:43:39</td>\n",
       "      <td>0</td>\n",
       "      <td>NaN</td>\n",
       "      <td>Samsung boosts Joe Biden’s chipmaking ambition...</td>\n",
       "      <td>False</td>\n",
       "      <td>True</td>\n",
       "    </tr>\n",
       "    <tr>\n",
       "      <th>645</th>\n",
       "      <td>40038439</td>\n",
       "      <td>Samsung's Texas plant will produce 2nm chips b...</td>\n",
       "      <td>https://www.ft.com/content/4124eb79-ea40-411d-...</td>\n",
       "      <td>ft.com</td>\n",
       "      <td>1</td>\n",
       "      <td>granter</td>\n",
       "      <td>2024-04-15 09:43:39</td>\n",
       "      <td>0</td>\n",
       "      <td>NaN</td>\n",
       "      <td>Samsung boosts Joe Biden’s chipmaking ambition...</td>\n",
       "      <td>False</td>\n",
       "      <td>True</td>\n",
       "    </tr>\n",
       "    <tr>\n",
       "      <th>1327</th>\n",
       "      <td>40049985</td>\n",
       "      <td>Copenhagen's 400-yr-old exchange burns down</td>\n",
       "      <td>https://www.ft.com/content/f9ec9d26-81eb-40d9-...</td>\n",
       "      <td>ft.com</td>\n",
       "      <td>5</td>\n",
       "      <td>mads</td>\n",
       "      <td>2024-04-16 09:27:53</td>\n",
       "      <td>0</td>\n",
       "      <td>NaN</td>\n",
       "      <td>Denmark’s historic stock exchange goes up in f...</td>\n",
       "      <td>True</td>\n",
       "      <td>True</td>\n",
       "    </tr>\n",
       "    <tr>\n",
       "      <th>1328</th>\n",
       "      <td>40049985</td>\n",
       "      <td>Copenhagen's 400-yr-old exchange burns down</td>\n",
       "      <td>https://www.ft.com/content/f9ec9d26-81eb-40d9-...</td>\n",
       "      <td>ft.com</td>\n",
       "      <td>5</td>\n",
       "      <td>mads</td>\n",
       "      <td>2024-04-16 09:27:53</td>\n",
       "      <td>0</td>\n",
       "      <td>NaN</td>\n",
       "      <td>Denmark’s historic stock exchange goes up in f...</td>\n",
       "      <td>True</td>\n",
       "      <td>True</td>\n",
       "    </tr>\n",
       "    <tr>\n",
       "      <th>2872</th>\n",
       "      <td>40070442</td>\n",
       "      <td>Effort to crack down on TikTok gains momentum ...</td>\n",
       "      <td>https://www.ft.com/content/c980675b-65a4-4f64-...</td>\n",
       "      <td>ft.com</td>\n",
       "      <td>1</td>\n",
       "      <td>TecoAndJix</td>\n",
       "      <td>2024-04-17 21:52:13</td>\n",
       "      <td>0</td>\n",
       "      <td>NaN</td>\n",
       "      <td>Push to crack down on TikTok gains momentum in...</td>\n",
       "      <td>False</td>\n",
       "      <td>True</td>\n",
       "    </tr>\n",
       "  </tbody>\n",
       "</table>\n",
       "</div>"
      ],
      "text/plain": [
       "           aid                                              title  \\\n",
       "644   40038439  Samsung's Texas plant will produce 2nm chips b...   \n",
       "645   40038439  Samsung's Texas plant will produce 2nm chips b...   \n",
       "1327  40049985        Copenhagen's 400-yr-old exchange burns down   \n",
       "1328  40049985        Copenhagen's 400-yr-old exchange burns down   \n",
       "2872  40070442  Effort to crack down on TikTok gains momentum ...   \n",
       "\n",
       "                                                    url  domain  votes  \\\n",
       "644   https://www.ft.com/content/4124eb79-ea40-411d-...  ft.com      1   \n",
       "645   https://www.ft.com/content/4124eb79-ea40-411d-...  ft.com      1   \n",
       "1327  https://www.ft.com/content/f9ec9d26-81eb-40d9-...  ft.com      5   \n",
       "1328  https://www.ft.com/content/f9ec9d26-81eb-40d9-...  ft.com      5   \n",
       "2872  https://www.ft.com/content/c980675b-65a4-4f64-...  ft.com      1   \n",
       "\n",
       "            user            posted_at  comments source_title  \\\n",
       "644      granter  2024-04-15 09:43:39         0          NaN   \n",
       "645      granter  2024-04-15 09:43:39         0          NaN   \n",
       "1327        mads  2024-04-16 09:27:53         0          NaN   \n",
       "1328        mads  2024-04-16 09:27:53         0          NaN   \n",
       "2872  TecoAndJix  2024-04-17 21:52:13         0          NaN   \n",
       "\n",
       "                                            source_text  frontpage  repeats  \n",
       "644   Samsung boosts Joe Biden’s chipmaking ambition...      False     True  \n",
       "645   Samsung boosts Joe Biden’s chipmaking ambition...      False     True  \n",
       "1327  Denmark’s historic stock exchange goes up in f...       True     True  \n",
       "1328  Denmark’s historic stock exchange goes up in f...       True     True  \n",
       "2872  Push to crack down on TikTok gains momentum in...      False     True  "
      ]
     },
     "execution_count": 14,
     "metadata": {},
     "output_type": "execute_result"
    }
   ],
   "source": [
    "## Compiling the remaining duplicate articles to investigate why they remained after drop.duplicates\n",
    "# select and display articles which appear more than once\n",
    "repeats = df[\"aid\"].value_counts()!=1\n",
    "df_reps = pd.DataFrame(repeats)\n",
    "df_reps = df_reps.reset_index()\n",
    "df_reps = df_reps.rename(columns={\"count\":\"repeats\"})\n",
    "df_reps = df.merge(df_reps, on=\"aid\")\n",
    "df_reps[df_reps[\"repeats\"]==True].head()"
   ]
  },
  {
   "cell_type": "code",
   "execution_count": 15,
   "id": "950731f2",
   "metadata": {},
   "outputs": [
    {
     "data": {
      "text/plain": [
       "aid\n",
       "39890845    1\n",
       "40257972    1\n",
       "40258037    1\n",
       "40258016    1\n",
       "40258005    1\n",
       "           ..\n",
       "40133575    1\n",
       "40133574    1\n",
       "40133558    1\n",
       "40133555    1\n",
       "40425156    1\n",
       "Name: count, Length: 19515, dtype: int64"
      ]
     },
     "execution_count": 15,
     "metadata": {},
     "output_type": "execute_result"
    }
   ],
   "source": [
    "## Double check to see that no duplicates remain\n",
    "df = df.drop_duplicates(subset=[\"aid\"]).reset_index(drop=True)\n",
    "df[\"aid\"].value_counts()"
   ]
  },
  {
   "cell_type": "markdown",
   "id": "7473cdf3",
   "metadata": {},
   "source": [
    "###  Cleaning up the _source_text_ variable"
   ]
  },
  {
   "cell_type": "code",
   "execution_count": 16,
   "id": "0cf35544",
   "metadata": {},
   "outputs": [],
   "source": [
    "## function which tokenises and counts the number of words in the _source_text_ of each article\n",
    "def num_of_words(df):\n",
    "    df['word_count'] = df['source_text'].apply(lambda x : len(str(x).split(\" \")))\n",
    "    print(df[['source_text','word_count']].head())"
   ]
  },
  {
   "cell_type": "code",
   "execution_count": 17,
   "id": "7c22798c",
   "metadata": {
    "scrolled": true
   },
   "outputs": [
    {
     "name": "stdout",
     "output_type": "stream",
     "text": [
      "                                         source_text  word_count\n",
      "0  A human–AI collaboration workflow for archaeol...        8583\n",
      "1  Meditation can have dangerous effects on menta...        4234\n",
      "2                                    reuters.com\\n\\n           1\n",
      "3  Ancient Pollen Is Hiding in a Surprising Place...        2259\n",
      "4  OSS backdoors: the folly of the easy fix - lca...         739\n"
     ]
    }
   ],
   "source": [
    "num_of_words(df)"
   ]
  },
  {
   "cell_type": "code",
   "execution_count": 18,
   "id": "9c28e148",
   "metadata": {},
   "outputs": [
    {
     "data": {
      "text/plain": [
       "Text(0, 0.5, 'Number of Articles')"
      ]
     },
     "execution_count": 18,
     "metadata": {},
     "output_type": "execute_result"
    },
    {
     "data": {
      "image/png": "[encoded data removed]",
      "text/plain": [
       "<Figure size 640x480 with 1 Axes>"
      ]
     },
     "metadata": {},
     "output_type": "display_data"
    }
   ],
   "source": [
    "plt.hist(df['word_count'], bins=1000, edgecolor='black')\n",
    "plt.xlim([0, 11000.])\n",
    "plt.xticks([0.,  2000., 4000., 6000., 8000., 10000.])\n",
    "plt.ylabel(\"Number of Articles\")"
   ]
  },
  {
   "cell_type": "code",
   "execution_count": 19,
   "id": "e5f530bf",
   "metadata": {},
   "outputs": [
    {
     "data": {
      "text/plain": [
       "Text(0, 0.5, 'Number of Articles')"
      ]
     },
     "execution_count": 19,
     "metadata": {},
     "output_type": "execute_result"
    },
    {
     "data": {
      "image/png": "[encoded data removed]",
      "text/plain": [
       "<Figure size 640x480 with 1 Axes>"
      ]
     },
     "metadata": {},
     "output_type": "display_data"
    }
   ],
   "source": [
    "plt.hist(df.word_count[df.word_count<=10], bins=9, edgecolor='black')\n",
    "plt.xticks([2., 4., 6., 8., 10.])\n",
    "plt.ylabel(\"Number of Articles\")"
   ]
  },
  {
   "cell_type": "markdown",
   "id": "5d71acce",
   "metadata": {},
   "source": [
    "We see that some source_text variables have a very low word count, maybe indicating a problem with the data. "
   ]
  },
  {
   "cell_type": "code",
   "execution_count": 20,
   "id": "f9068117",
   "metadata": {},
   "outputs": [
    {
     "data": {
      "text/plain": [
       "domain\n",
       "wsj.com            182\n",
       "techcrunch.com     149\n",
       "reuters.com        138\n",
       "yahoo.com           49\n",
       "fastcompany.com     17\n",
       "Name: count, dtype: int64"
      ]
     },
     "execution_count": 20,
     "metadata": {},
     "output_type": "execute_result"
    }
   ],
   "source": [
    "low_word_count=df[df[\"word_count\"]<=10]\n",
    "low_word_count[\"domain\"].value_counts().head()"
   ]
  },
  {
   "cell_type": "code",
   "execution_count": 21,
   "id": "504f71e3",
   "metadata": {},
   "outputs": [
    {
     "data": {
      "text/plain": [
       "frontpage\n",
       "False    0.803279\n",
       "True     0.196721\n",
       "Name: count, dtype: float64"
      ]
     },
     "execution_count": 21,
     "metadata": {},
     "output_type": "execute_result"
    }
   ],
   "source": [
    "low_word_count[\"frontpage\"].value_counts()/sum(low_word_count[\"frontpage\"].value_counts())"
   ]
  },
  {
   "cell_type": "code",
   "execution_count": 22,
   "id": "261b90cb",
   "metadata": {
    "scrolled": false
   },
   "outputs": [
    {
     "data": {
      "text/plain": [
       "aid                                                      39891097\n",
       "title           Microsoft, OpenAI plan $100B data-center proje...\n",
       "url             https://www.reuters.com/technology/microsoft-o...\n",
       "domain                                                reuters.com\n",
       "votes                                                           1\n",
       "user                                                   Judyrabbit\n",
       "posted_at                                     2024-04-01 05:09:47\n",
       "comments                                                        0\n",
       "source_title                                          reuters.com\n",
       "source_text                                       reuters.com\\n\\n\n",
       "frontpage                                                   False\n",
       "word_count                                                      1\n",
       "Name: 12, dtype: object"
      ]
     },
     "execution_count": 22,
     "metadata": {},
     "output_type": "execute_result"
    }
   ],
   "source": [
    "low_word_count.iloc[1]"
   ]
  },
  {
   "cell_type": "code",
   "execution_count": 23,
   "id": "2f13f5c2",
   "metadata": {},
   "outputs": [],
   "source": [
    "df_nlwc = df.drop(low_word_count.index)\n",
    "df_nlwc = df_nlwc.drop(\"word_count\", axis = 1)\n",
    "df_nlwc.to_csv(\"assignment3_full.csv\", index=False)"
   ]
  },
  {
   "cell_type": "markdown",
   "id": "657ff91d",
   "metadata": {},
   "source": [
    "# Exploratory Data Analysis"
   ]
  },
  {
   "cell_type": "code",
   "execution_count": 24,
   "id": "9f990348",
   "metadata": {},
   "outputs": [
    {
     "data": {
      "text/plain": [
       "Text(0, 0.5, 'Number of Instances')"
      ]
     },
     "execution_count": 24,
     "metadata": {},
     "output_type": "execute_result"
    },
    {
     "data": {
      "image/png": "[encoded data removed]",
      "text/plain": [
       "<Figure size 640x480 with 1 Axes>"
      ]
     },
     "metadata": {},
     "output_type": "display_data"
    }
   ],
   "source": [
    "df['posted_at'] = pd.to_datetime(df['posted_at'])\n",
    "plt.hist(df['posted_at'], bins=60, edgecolor='black')\n",
    "plt.xticks([19814., 19840.,  19865.])\n",
    "plt.ylabel(\"Number of Instances\")"
   ]
  },
  {
   "cell_type": "code",
   "execution_count": 46,
   "id": "ac5f6312",
   "metadata": {
    "scrolled": true
   },
   "outputs": [
    {
     "name": "stdout",
     "output_type": "stream",
     "text": [
      "Training Dataset Count: 14684\n",
      "Test Dataset Count: 3672\n"
     ]
    }
   ],
   "source": [
    "## Split Train/Test data\n",
    "train, test= train_test_split(df_nlwc, test_size=0.2, random_state=1)\n",
    "print(\"Training Dataset Count: \" + str(train.shape[0]))\n",
    "print(\"Test Dataset Count: \" + str(test.shape[0]))"
   ]
  },
  {
   "cell_type": "code",
   "execution_count": 26,
   "id": "3b8d5da4",
   "metadata": {},
   "outputs": [
    {
     "data": {
      "text/plain": [
       "frontpage\n",
       "False    0.824367\n",
       "True     0.175633\n",
       "Name: count, dtype: float64"
      ]
     },
     "execution_count": 26,
     "metadata": {},
     "output_type": "execute_result"
    }
   ],
   "source": [
    "# proportions of positive and negative responses\n",
    "train[\"frontpage\"].value_counts()/sum(train[\"frontpage\"].value_counts())"
   ]
  },
  {
   "cell_type": "code",
   "execution_count": 27,
   "id": "a1628b9c",
   "metadata": {},
   "outputs": [
    {
     "data": {
      "image/png": "[encoded data removed]",
      "text/plain": [
       "<Figure size 800x600 with 1 Axes>"
      ]
     },
     "metadata": {},
     "output_type": "display_data"
    }
   ],
   "source": [
    "train_outlier=train[train.votes>500]\n",
    "train_plot=train.drop(train_outlier.index)\n",
    "\n",
    "# jitter was added to help with visualisation\n",
    "jitter_strength = 0.1\n",
    "jittered_frontpage = train_plot['frontpage'] + \\\n",
    "np.random.uniform(-jitter_strength, jitter_strength, size=train_plot.shape[0])\n",
    "\n",
    "# Create scatter plot\n",
    "plt.figure(figsize=(8, 6))\n",
    "sns.scatterplot(x=jittered_frontpage, y=train_plot['votes'])\n",
    "plt.show()"
   ]
  },
  {
   "cell_type": "code",
   "execution_count": 28,
   "id": "2ecf3580",
   "metadata": {},
   "outputs": [
    {
     "data": {
      "image/png": "[encoded data removed]",
      "text/plain": [
       "<Figure size 800x600 with 1 Axes>"
      ]
     },
     "metadata": {},
     "output_type": "display_data"
    }
   ],
   "source": [
    "# Create scatter plot\n",
    "plt.figure(figsize=(8, 6))\n",
    "sns.scatterplot(x=jittered_frontpage, y=train_plot['comments'])\n",
    "plt.show()"
   ]
  },
  {
   "cell_type": "markdown",
   "id": "1d11fdfc",
   "metadata": {},
   "source": [
    "# Featurising  _'Title'_"
   ]
  },
  {
   "cell_type": "markdown",
   "id": "2291000a",
   "metadata": {},
   "source": [
    "Do all the subsetting _*before*_ using spark, otherwise we will use way too much memory and it will crash."
   ]
  },
  {
   "cell_type": "code",
   "execution_count": 47,
   "id": "ccae520b",
   "metadata": {},
   "outputs": [],
   "source": [
    "## turn our label into a binary variable\n",
    "train['frontpage'] = train['frontpage'].astype(int)\n",
    "test['frontpage'] = test['frontpage'].astype(int)\n",
    "## use a sample of the data to use less memory (for working with source_text)\n",
    "# train = train.sample(frac=0.1, random_state=1)\n",
    "## subset by label and variable we wish to featurise, to use less memory\n",
    "train = train[['frontpage','title', 'votes', 'comments']]\n",
    "test = test[['frontpage','title', 'votes', 'comments']]"
   ]
  },
  {
   "cell_type": "code",
   "execution_count": 48,
   "id": "a5d0dbfe",
   "metadata": {},
   "outputs": [],
   "source": [
    "## create a spark DataFrame out of our pandas DataFrame\n",
    "spark_train = spark.createDataFrame(train)\n",
    "spark_test = spark.createDataFrame(test)\n",
    "#spark_df = spark_df.sample(withReplacement=False, fraction=0.1, seed=1)\n",
    "## repartition the df (may make it easier to process)\n",
    "spark_train = spark_train.repartition(4)\n",
    "spark_test = spark_test.repartition(4)"
   ]
  },
  {
   "cell_type": "code",
   "execution_count": 49,
   "id": "5e89e08d",
   "metadata": {
    "scrolled": true
   },
   "outputs": [
    {
     "name": "stdout",
     "output_type": "stream",
     "text": [
      "+---------+--------------------+-----+--------+\n",
      "|frontpage|               title|votes|comments|\n",
      "+---------+--------------------+-----+--------+\n",
      "|        0|Exposure to poor ...|    2|       0|\n",
      "|        0|OpenSSF Warns of ...|    2|       0|\n",
      "|        0|How do Spotify Co...|    1|       0|\n",
      "|        0|FDA says 1 in 5 s...|    3|       0|\n",
      "|        0|Sequoia commits t...|    2|       2|\n",
      "+---------+--------------------+-----+--------+\n",
      "only showing top 5 rows\n",
      "\n"
     ]
    }
   ],
   "source": [
    "## show contents of the DataFrame\n",
    "spark_train.show(5)"
   ]
  },
  {
   "cell_type": "code",
   "execution_count": 50,
   "id": "aaf0c45c",
   "metadata": {
    "scrolled": true
   },
   "outputs": [
    {
     "name": "stdout",
     "output_type": "stream",
     "text": [
      "+---------+--------------------+--------------------+\n",
      "|frontpage|               title|         title_words|\n",
      "+---------+--------------------+--------------------+\n",
      "|        1|Unearthing APT44:...|[unearthing, apt4...|\n",
      "|        1|Tesla's 2M car Au...|[tesla, s, 2m, ca...|\n",
      "|        0|   The Pen, Mightier|[the, pen, mightier]|\n",
      "|        0|How to Exploit a ...|[how, to, exploit...|\n",
      "|        0|        Westward Ho!|      [westward, ho]|\n",
      "+---------+--------------------+--------------------+\n",
      "only showing top 5 rows\n",
      "\n"
     ]
    }
   ],
   "source": [
    "## convert our variable of text into list of words\n",
    "tokenizer = RegexTokenizer(inputCol=\"title\", outputCol=\"title_words\", pattern=\"\\\\W\")\n",
    "\n",
    "## adds a column of our tokenised words to df\n",
    "spark_train_tokenised = tokenizer.transform(spark_train)\n",
    "\n",
    "## show contents of the DF\n",
    "spark_train_tokenised.select(['frontpage','title', 'title_words']).show(5)"
   ]
  },
  {
   "cell_type": "code",
   "execution_count": 51,
   "id": "97616207",
   "metadata": {
    "scrolled": true
   },
   "outputs": [
    {
     "name": "stdout",
     "output_type": "stream",
     "text": [
      "+---------+--------------------+--------------------+--------------------+\n",
      "|frontpage|               title|         title_words|       f_title_words|\n",
      "+---------+--------------------+--------------------+--------------------+\n",
      "|        1|Unearthing APT44:...|[unearthing, apt4...|[unearthing, apt4...|\n",
      "|        1|Tesla's 2M car Au...|[tesla, s, 2m, ca...|[tesla, 2m, car, ...|\n",
      "|        0|   The Pen, Mightier|[the, pen, mightier]|     [pen, mightier]|\n",
      "|        0|How to Exploit a ...|[how, to, exploit...|[exploit, buffer,...|\n",
      "|        0|        Westward Ho!|      [westward, ho]|      [westward, ho]|\n",
      "+---------+--------------------+--------------------+--------------------+\n",
      "only showing top 5 rows\n",
      "\n"
     ]
    }
   ],
   "source": [
    "## stopwords remove to remove common, uninformative words\n",
    "stopwords_remover = StopWordsRemover(inputCol=\"title_words\", outputCol=\"f_title_words\")\n",
    "\n",
    "## adds a column of the filtered words to df\n",
    "spark_train_stopwordless = stopwords_remover.transform(spark_train_tokenised)\n",
    "\n",
    "## print the contents of the DF\n",
    "spark_train_stopwordless.select(['frontpage','title', 'title_words', 'f_title_words']).show(5)"
   ]
  },
  {
   "cell_type": "code",
   "execution_count": 53,
   "id": "2d63c61c",
   "metadata": {
    "scrolled": true
   },
   "outputs": [
    {
     "name": "stdout",
     "output_type": "stream",
     "text": [
      "+---------+--------------------+--------------------+--------------------+--------------------+\n",
      "|frontpage|               title|         title_words|       f_title_words|      title_features|\n",
      "+---------+--------------------+--------------------+--------------------+--------------------+\n",
      "|        1|Unearthing APT44:...|[unearthing, apt4...|[unearthing, apt4...|(256,[63,96,121,1...|\n",
      "|        1|Tesla's 2M car Au...|[tesla, s, 2m, ca...|[tesla, 2m, car, ...|(256,[35,59,73,15...|\n",
      "|        0|   The Pen, Mightier|[the, pen, mightier]|     [pen, mightier]|(256,[63,186],[3....|\n",
      "|        0|How to Exploit a ...|[how, to, exploit...|[exploit, buffer,...|(256,[44,105,197]...|\n",
      "|        0|        Westward Ho!|      [westward, ho]|      [westward, ho]|(256,[22,249],[4....|\n",
      "+---------+--------------------+--------------------+--------------------+--------------------+\n",
      "only showing top 5 rows\n",
      "\n"
     ]
    }
   ],
   "source": [
    "## Calculate term frequency in each article\n",
    "hashing_tf = HashingTF(inputCol=\"f_title_words\",\n",
    "                       outputCol=\"raw_features\", \n",
    "                       numFeatures=256)\n",
    "\n",
    "## adds raw tf features to the DF\n",
    "featurized_data = hashing_tf.transform(spark_train_stopwordless)\n",
    "\n",
    "## Inverse document frequency\n",
    "idf = IDF(inputCol=\"raw_features\", outputCol=\"title_features\")\n",
    "\n",
    "idf_vectorizer = idf.fit(featurized_data)\n",
    "\n",
    "## converting text to vectors\n",
    "rescaled_data = idf_vectorizer.transform(featurized_data)\n",
    "\n",
    "## display the top 20 rows\n",
    "rescaled_data.select('frontpage','title', 'title_words', 'f_title_words', \"title_features\").show(5)"
   ]
  },
  {
   "cell_type": "code",
   "execution_count": 54,
   "id": "94518cfe",
   "metadata": {},
   "outputs": [],
   "source": [
    "assembler = VectorAssembler(inputCols=['title_features', 'votes', 'comments'],outputCol=\"features\")\n",
    "rescaled_data = assembler.transform(rescaled_data)"
   ]
  },
  {
   "cell_type": "code",
   "execution_count": 55,
   "id": "86ba6431",
   "metadata": {},
   "outputs": [],
   "source": [
    "#### TEST #### WITHOUT #### TEXT #### FEATURES ####\n",
    "## Still achieves a very high predictive accuracy\n",
    "\n",
    "\n",
    "# assembler = VectorAssembler(inputCols=['votes', 'comments'],outputCol=\"features\")\n",
    "# rescaled_data = assembler.transform(rescaled_data)"
   ]
  },
  {
   "cell_type": "code",
   "execution_count": 56,
   "id": "dd542f8e",
   "metadata": {
    "scrolled": false
   },
   "outputs": [],
   "source": [
    "## model object\n",
    "lr = LogisticRegression(featuresCol='features',\n",
    "                        labelCol='frontpage',\n",
    "                        family=\"auto\",\n",
    "                        maxIter=50)\n",
    "\n",
    "## train model with default parameters\n",
    "lrModel = lr.fit(rescaled_data)"
   ]
  },
  {
   "cell_type": "code",
   "execution_count": null,
   "id": "3465d47c",
   "metadata": {},
   "outputs": [],
   "source": [
    "# Test-set Accuracy is :  0.9821321961620465 with the text features\n",
    "# Test-set Accuracy is :  0.9884550155625812 without the text features"
   ]
  },
  {
   "cell_type": "markdown",
   "id": "3f67bff9",
   "metadata": {},
   "source": [
    "## Model Pipeline"
   ]
  },
  {
   "cell_type": "code",
   "execution_count": 58,
   "id": "3b2e1637",
   "metadata": {},
   "outputs": [],
   "source": [
    "# pipeline staging area\n",
    "tokenizer = RegexTokenizer(inputCol=\"title\", outputCol=\"title_words\", pattern=\"\\\\W\")\n",
    "stopwords_remover = StopWordsRemover(inputCol=\"title_words\", outputCol=\"f_title_words\")\n",
    "hashing_tf = HashingTF(inputCol=\"f_title_words\",\n",
    "                       outputCol=\"raw_features\", \n",
    "                       numFeatures=256)\n",
    "idf = IDF(inputCol=\"raw_features\", outputCol=\"title_features\")\n",
    "assembler = VectorAssembler(inputCols=['title_features', 'votes', 'comments'],outputCol=\"features\")\n",
    "lr = LogisticRegression(featuresCol='features',\n",
    "                        labelCol='frontpage',\n",
    "                        family=\"auto\",\n",
    "                        maxIter=50)"
   ]
  },
  {
   "cell_type": "code",
   "execution_count": 59,
   "id": "a42ccf51",
   "metadata": {},
   "outputs": [],
   "source": [
    "# pipeline including all steps in the featurisation process\n",
    "pipeline = Pipeline(stages=[tokenizer, stopwords_remover, hashing_tf, idf, assembler, lr])"
   ]
  },
  {
   "cell_type": "code",
   "execution_count": 60,
   "id": "1d70fa62",
   "metadata": {},
   "outputs": [],
   "source": [
    "# fitting the model using the pipeline defined previously\n",
    "model=pipeline.fit(spark_train)"
   ]
  },
  {
   "cell_type": "code",
   "execution_count": 61,
   "id": "f7c42278",
   "metadata": {},
   "outputs": [],
   "source": [
    "# save the model to a specified location, to be loaded from later\n",
    "model_path = \"C:\\\\Users\\\\Dillon\\\\Desktop\\\\spark\\\\notebooks\\\\models\" ## YOUR PATH HERE ##\n",
    "model.write().overwrite().save(model_path)"
   ]
  },
  {
   "cell_type": "code",
   "execution_count": 62,
   "id": "ad06d712",
   "metadata": {},
   "outputs": [],
   "source": [
    "# loading the model to evaluate it on the test set\n",
    "pred_model = PipelineModel.load(model_path)"
   ]
  },
  {
   "cell_type": "code",
   "execution_count": 63,
   "id": "4c690346",
   "metadata": {},
   "outputs": [],
   "source": [
    "# transforming the test set and making predictions\n",
    "predictions = pred_model.transform(spark_test)"
   ]
  },
  {
   "cell_type": "code",
   "execution_count": 64,
   "id": "334b1c21",
   "metadata": {},
   "outputs": [
    {
     "name": "stdout",
     "output_type": "stream",
     "text": [
      "+--------------------+-----+--------+--------------------+----------+---------+\n",
      "|               title|votes|comments|         probability|prediction|frontpage|\n",
      "+--------------------+-----+--------+--------------------+----------+---------+\n",
      "|Glitch on BepiCol...|    2|       0|[0.91989247679589...|       0.0|        0|\n",
      "|Petflix, the Vide...|    2|       0|[0.97834281919763...|       0.0|        0|\n",
      "|Reverse Engineeri...|    1|       0|[0.98335741258370...|       0.0|        0|\n",
      "|  American Flag Sort|   16|       0|[1.00441332701935...|       1.0|        1|\n",
      "|A Visit to id Sof...|    1|       0|[0.98063894842531...|       0.0|        0|\n",
      "|Design Principles...|    2|       0|[0.93663699072590...|       0.0|        0|\n",
      "|Mozilla commissio...|    1|       0|[0.98213224014309...|       0.0|        0|\n",
      "|Littlejohn and th...|    1|       0|[0.97237696274965...|       0.0|        0|\n",
      "|Party Like It's 1...|    1|       0|[0.95815858549980...|       0.0|        0|\n",
      "|Video codec writt...|    2|       0|[0.86585695141039...|       0.0|        0|\n",
      "|Hundreds evicted ...|    2|       0|[0.88678916725031...|       0.0|        0|\n",
      "|SVG Viewer – View...|   60|       9|[2.43308279419495...|       1.0|        1|\n",
      "|\"Testing can show...|    1|       0|[0.98736670264680...|       0.0|        0|\n",
      "|I removed a front...|    1|       0|[0.92515931462812...|       0.0|        0|\n",
      "|What the Heck Is ...|    2|       0|[0.94184217072266...|       0.0|        0|\n",
      "|Criterion Collect...|    2|       0|[0.92944089944164...|       0.0|        0|\n",
      "|Why you shouldn't...|    2|       0|[0.94245495696135...|       0.0|        0|\n",
      "|Searchformer: Bey...|    6|       0|[0.32655922031838...|       1.0|        1|\n",
      "|HashiCorp reporte...|    4|       0|[0.86616016231501...|       0.0|        0|\n",
      "|How to Fight Impo...|    1|       0|[0.97450668767211...|       0.0|        0|\n",
      "+--------------------+-----+--------+--------------------+----------+---------+\n",
      "only showing top 20 rows\n",
      "\n"
     ]
    }
   ],
   "source": [
    "predictions.select(\"title\", \"votes\", \"comments\", \"probability\", \"prediction\", \"frontpage\").show()"
   ]
  },
  {
   "cell_type": "code",
   "execution_count": 65,
   "id": "862ad2c8",
   "metadata": {},
   "outputs": [
    {
     "name": "stdout",
     "output_type": "stream",
     "text": [
      "Test-set Accuracy is :  0.9823327218007916\n"
     ]
    }
   ],
   "source": [
    "## to evalute model\n",
    "evaluator = BinaryClassificationEvaluator(labelCol=\"frontpage\")\n",
    "\n",
    "## print test accuracy\n",
    "print(\"Test-set Accuracy is : \", evaluator.evaluate(predictions))"
   ]
  },
  {
   "cell_type": "code",
   "execution_count": null,
   "id": "80ff2a79",
   "metadata": {},
   "outputs": [],
   "source": []
  },
  {
   "cell_type": "code",
   "execution_count": null,
   "id": "b54479f6",
   "metadata": {},
   "outputs": [],
   "source": []
  },
  {
   "cell_type": "code",
   "execution_count": null,
   "id": "80ae4435",
   "metadata": {},
   "outputs": [],
   "source": []
  },
  {
   "cell_type": "code",
   "execution_count": null,
   "id": "05d2faf3",
   "metadata": {},
   "outputs": [],
   "source": []
  },
  {
   "cell_type": "code",
   "execution_count": null,
   "id": "1956d68c",
   "metadata": {},
   "outputs": [],
   "source": []
  },
  {
   "cell_type": "code",
   "execution_count": null,
   "id": "3a58b686",
   "metadata": {},
   "outputs": [],
   "source": []
  },
  {
   "cell_type": "code",
   "execution_count": null,
   "id": "e956194f",
   "metadata": {},
   "outputs": [],
   "source": []
  },
  {
   "cell_type": "code",
   "execution_count": null,
   "id": "fbad0c84",
   "metadata": {},
   "outputs": [],
   "source": []
  },
  {
   "cell_type": "code",
   "execution_count": null,
   "id": "9b606ca8",
   "metadata": {},
   "outputs": [],
   "source": []
  },
  {
   "cell_type": "code",
   "execution_count": null,
   "id": "66bcb4ba",
   "metadata": {},
   "outputs": [],
   "source": []
  },
  {
   "cell_type": "code",
   "execution_count": null,
   "id": "ca5e50a7",
   "metadata": {},
   "outputs": [],
   "source": []
  },
  {
   "cell_type": "code",
   "execution_count": null,
   "id": "df64c1d8",
   "metadata": {},
   "outputs": [],
   "source": []
  },
  {
   "cell_type": "code",
   "execution_count": null,
   "id": "982d950d",
   "metadata": {},
   "outputs": [],
   "source": []
  },
  {
   "cell_type": "code",
   "execution_count": null,
   "id": "66433b47",
   "metadata": {},
   "outputs": [],
   "source": []
  },
  {
   "cell_type": "code",
   "execution_count": null,
   "id": "b250fe0c",
   "metadata": {},
   "outputs": [],
   "source": []
  },
  {
   "cell_type": "code",
   "execution_count": null,
   "id": "4461732a",
   "metadata": {},
   "outputs": [],
   "source": []
  },
  {
   "cell_type": "code",
   "execution_count": null,
   "id": "89268c4f",
   "metadata": {},
   "outputs": [],
   "source": []
  }
 ],
 "metadata": {
  "kernelspec": {
   "display_name": "Python 3 (ipykernel)",
   "language": "python",
   "name": "python3"
  },
  "language_info": {
   "codemirror_mode": {
    "name": "ipython",
    "version": 3
   },
   "file_extension": ".py",
   "mimetype": "text/x-python",
   "name": "python",
   "nbconvert_exporter": "python",
   "pygments_lexer": "ipython3",
   "version": "3.11.5"
  }
 },
 "nbformat": 4,
 "nbformat_minor": 5
}
