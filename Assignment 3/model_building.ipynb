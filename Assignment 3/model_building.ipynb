{
 "cells": [
  {
   "cell_type": "markdown",
   "id": "6e40ea18",
   "metadata": {},
   "source": [
    "# Developing Features"
   ]
  },
  {
   "cell_type": "code",
   "execution_count": 39,
   "id": "5f8e4a72",
   "metadata": {},
   "outputs": [],
   "source": [
    "import numpy as np\n",
    "import pandas as pd\n",
    "import pyspark\n",
    "import matplotlib.pyplot as plt\n",
    "import seaborn as sns\n",
    "from sklearn.model_selection import train_test_split\n",
    "from pyspark.ml import Pipeline # pipeline to transform data\n",
    "from pyspark.sql import SparkSession # to initiate spark\n",
    "from pyspark.ml.linalg import Vectors # to allow us to work with VectorAssembler\n",
    "from pyspark.ml.feature import VectorAssembler # to combine our feature columns to pass to LogisticRegression model\n",
    "from pyspark.sql.types import FloatType\n",
    "from pyspark.ml.feature import RegexTokenizer # tokenizer\n",
    "from pyspark.ml.feature import HashingTF, IDF, IDFModel # vectorizer\n",
    "from pyspark.ml.feature import StopWordsRemover # to remove stop words\n",
    "from pyspark.ml.classification import LogisticRegression, LogisticRegressionModel # ml model\n",
    "from pyspark.ml.evaluation import BinaryClassificationEvaluator # to evaluate the model\n",
    "from pyspark.ml.pipeline import PipelineModel"
   ]
  },
  {
   "cell_type": "code",
   "execution_count": 40,
   "id": "44e1adc8",
   "metadata": {},
   "outputs": [],
   "source": [
    "spark = SparkSession.builder \\\n",
    "    .appName(\"AABDW Assignment 3\") \\\n",
    "    .getOrCreate()"
   ]
  },
  {
   "cell_type": "markdown",
   "id": "1d11fdfc",
   "metadata": {},
   "source": [
    "# Featurising  _'Title'_"
   ]
  },
  {
   "cell_type": "markdown",
   "id": "2291000a",
   "metadata": {},
   "source": [
    "Do all the subsetting _*before*_ using spark, otherwise we will use way too much memory and it will crash."
   ]
  },
  {
   "cell_type": "code",
   "execution_count": 17,
   "id": "ba252ce0",
   "metadata": {},
   "outputs": [
    {
     "data": {
      "text/html": [
       "<div>\n",
       "<style scoped>\n",
       "    .dataframe tbody tr th:only-of-type {\n",
       "        vertical-align: middle;\n",
       "    }\n",
       "\n",
       "    .dataframe tbody tr th {\n",
       "        vertical-align: top;\n",
       "    }\n",
       "\n",
       "    .dataframe thead th {\n",
       "        text-align: right;\n",
       "    }\n",
       "</style>\n",
       "<table border=\"1\" class=\"dataframe\">\n",
       "  <thead>\n",
       "    <tr style=\"text-align: right;\">\n",
       "      <th></th>\n",
       "      <th>aid</th>\n",
       "      <th>title</th>\n",
       "      <th>url</th>\n",
       "      <th>domain</th>\n",
       "      <th>votes</th>\n",
       "      <th>user</th>\n",
       "      <th>posted_at</th>\n",
       "      <th>comments</th>\n",
       "      <th>source_title</th>\n",
       "      <th>source_text</th>\n",
       "      <th>frontpage</th>\n",
       "    </tr>\n",
       "  </thead>\n",
       "  <tbody>\n",
       "    <tr>\n",
       "      <th>0</th>\n",
       "      <td>39890845</td>\n",
       "      <td>A human–AI collaboration workflow for archaeol...</td>\n",
       "      <td>https://www.nature.com/articles/s41598-023-360...</td>\n",
       "      <td>nature.com</td>\n",
       "      <td>1</td>\n",
       "      <td>Hooke</td>\n",
       "      <td>2024-04-01 04:10:54</td>\n",
       "      <td>0</td>\n",
       "      <td>A human–AI collaboration workflow for archaeol...</td>\n",
       "      <td>A human–AI collaboration workflow for archaeol...</td>\n",
       "      <td>False</td>\n",
       "    </tr>\n",
       "    <tr>\n",
       "      <th>1</th>\n",
       "      <td>39890863</td>\n",
       "      <td>A new podcast examines the perils of intense m...</td>\n",
       "      <td>https://www.npr.org/sections/health-shots/2024...</td>\n",
       "      <td>npr.org</td>\n",
       "      <td>1</td>\n",
       "      <td>cempaka</td>\n",
       "      <td>2024-04-01 04:13:32</td>\n",
       "      <td>0</td>\n",
       "      <td>A new podcast examines the perils of intense m...</td>\n",
       "      <td>Meditation can have dangerous effects on menta...</td>\n",
       "      <td>False</td>\n",
       "    </tr>\n",
       "    <tr>\n",
       "      <th>2</th>\n",
       "      <td>39890866</td>\n",
       "      <td>Ancient Pollen Is Hiding in a Surprising Place</td>\n",
       "      <td>https://www.sapiens.org/biology/ancient-ecosys...</td>\n",
       "      <td>sapiens.org</td>\n",
       "      <td>1</td>\n",
       "      <td>diodorus</td>\n",
       "      <td>2024-04-01 04:14:25</td>\n",
       "      <td>0</td>\n",
       "      <td>Ancient Pollen Is Hiding in a Surprising Place</td>\n",
       "      <td>Ancient Pollen Is Hiding in a Surprising Place...</td>\n",
       "      <td>False</td>\n",
       "    </tr>\n",
       "    <tr>\n",
       "      <th>3</th>\n",
       "      <td>39890888</td>\n",
       "      <td>OSS backdoors: the folly of the easy fix</td>\n",
       "      <td>https://lcamtuf.substack.com/p/oss-backdoors-t...</td>\n",
       "      <td>lcamtuf.substack.com</td>\n",
       "      <td>2</td>\n",
       "      <td>dchest</td>\n",
       "      <td>2024-04-01 04:19:01</td>\n",
       "      <td>0</td>\n",
       "      <td>OSS backdoors: the folly of the easy fix</td>\n",
       "      <td>OSS backdoors: the folly of the easy fix - lca...</td>\n",
       "      <td>False</td>\n",
       "    </tr>\n",
       "    <tr>\n",
       "      <th>4</th>\n",
       "      <td>39890897</td>\n",
       "      <td>Show HN: All you need is manifest.json to buil...</td>\n",
       "      <td>https://github.com/fxnoob/manifest.js</td>\n",
       "      <td>github.com/fxnoob</td>\n",
       "      <td>1</td>\n",
       "      <td>fxnoob71</td>\n",
       "      <td>2024-04-01 04:21:20</td>\n",
       "      <td>0</td>\n",
       "      <td>GitHub - fxnoob/manifest.js: Successor of http...</td>\n",
       "      <td>GitHub - fxnoob/manifest.js: Successor of http...</td>\n",
       "      <td>False</td>\n",
       "    </tr>\n",
       "    <tr>\n",
       "      <th>...</th>\n",
       "      <td>...</td>\n",
       "      <td>...</td>\n",
       "      <td>...</td>\n",
       "      <td>...</td>\n",
       "      <td>...</td>\n",
       "      <td>...</td>\n",
       "      <td>...</td>\n",
       "      <td>...</td>\n",
       "      <td>...</td>\n",
       "      <td>...</td>\n",
       "      <td>...</td>\n",
       "    </tr>\n",
       "    <tr>\n",
       "      <th>18351</th>\n",
       "      <td>40425091</td>\n",
       "      <td>A Tale of Two Industroyers: It Was the Season ...</td>\n",
       "      <td>https://www.computer.org/csdl/proceedings-arti...</td>\n",
       "      <td>computer.org</td>\n",
       "      <td>1</td>\n",
       "      <td>TamTech</td>\n",
       "      <td>2024-05-21 07:08:00</td>\n",
       "      <td>0</td>\n",
       "      <td>A Tale of Two Industroyers: It was the Season ...</td>\n",
       "      <td>A Tale of Two Industroyers: It was the Season ...</td>\n",
       "      <td>False</td>\n",
       "    </tr>\n",
       "    <tr>\n",
       "      <th>18352</th>\n",
       "      <td>40425094</td>\n",
       "      <td>Things announced at I/O 2024</td>\n",
       "      <td>https://kingdigest.beehiiv.com/p/100-things-an...</td>\n",
       "      <td>kingdigest.beehiiv.com</td>\n",
       "      <td>1</td>\n",
       "      <td>danielkrol86</td>\n",
       "      <td>2024-05-21 07:08:24</td>\n",
       "      <td>0</td>\n",
       "      <td>👑King Digest: 100 things announced at I/O 2024</td>\n",
       "      <td>👑King Digest: 100 things announced at I/O 2024...</td>\n",
       "      <td>False</td>\n",
       "    </tr>\n",
       "    <tr>\n",
       "      <th>18353</th>\n",
       "      <td>40425103</td>\n",
       "      <td>Show HN: I built a GPT which can help you Unde...</td>\n",
       "      <td>https://chat.openai.com/g/g-TfQkxgXbK-code-cop...</td>\n",
       "      <td>chat.openai.com</td>\n",
       "      <td>1</td>\n",
       "      <td>BabyJordan</td>\n",
       "      <td>2024-05-21 07:10:26</td>\n",
       "      <td>0</td>\n",
       "      <td>ChatGPT - Code Copilot AI</td>\n",
       "      <td>ChatGPT - Code Copilot AI\\n\\nSign up\\n\\nCode C...</td>\n",
       "      <td>False</td>\n",
       "    </tr>\n",
       "    <tr>\n",
       "      <th>18354</th>\n",
       "      <td>40425141</td>\n",
       "      <td>I invented a pedal-powered homeoffice. Now I e...</td>\n",
       "      <td>https://www.theguardian.com/environment/articl...</td>\n",
       "      <td>theguardian.com</td>\n",
       "      <td>4</td>\n",
       "      <td>manuelmoreale</td>\n",
       "      <td>2024-05-21 07:18:03</td>\n",
       "      <td>0</td>\n",
       "      <td>I invented a pedal-powered home office. Now I ...</td>\n",
       "      <td>I invented a pedal-powered home office. Now I ...</td>\n",
       "      <td>True</td>\n",
       "    </tr>\n",
       "    <tr>\n",
       "      <th>18355</th>\n",
       "      <td>40425156</td>\n",
       "      <td>Mpip</td>\n",
       "      <td>https://github.com/litongjava/mpip</td>\n",
       "      <td>github.com/litongjava</td>\n",
       "      <td>1</td>\n",
       "      <td>litongjava</td>\n",
       "      <td>2024-05-21 07:20:58</td>\n",
       "      <td>0</td>\n",
       "      <td>GitHub - litongjava/mpip: python pckage manage...</td>\n",
       "      <td>GitHub - litongjava/mpip: python pckage manage...</td>\n",
       "      <td>False</td>\n",
       "    </tr>\n",
       "  </tbody>\n",
       "</table>\n",
       "<p>18356 rows × 11 columns</p>\n",
       "</div>"
      ],
      "text/plain": [
       "            aid                                              title  \\\n",
       "0      39890845  A human–AI collaboration workflow for archaeol...   \n",
       "1      39890863  A new podcast examines the perils of intense m...   \n",
       "2      39890866     Ancient Pollen Is Hiding in a Surprising Place   \n",
       "3      39890888           OSS backdoors: the folly of the easy fix   \n",
       "4      39890897  Show HN: All you need is manifest.json to buil...   \n",
       "...         ...                                                ...   \n",
       "18351  40425091  A Tale of Two Industroyers: It Was the Season ...   \n",
       "18352  40425094                       Things announced at I/O 2024   \n",
       "18353  40425103  Show HN: I built a GPT which can help you Unde...   \n",
       "18354  40425141  I invented a pedal-powered homeoffice. Now I e...   \n",
       "18355  40425156                                               Mpip   \n",
       "\n",
       "                                                     url  \\\n",
       "0      https://www.nature.com/articles/s41598-023-360...   \n",
       "1      https://www.npr.org/sections/health-shots/2024...   \n",
       "2      https://www.sapiens.org/biology/ancient-ecosys...   \n",
       "3      https://lcamtuf.substack.com/p/oss-backdoors-t...   \n",
       "4                  https://github.com/fxnoob/manifest.js   \n",
       "...                                                  ...   \n",
       "18351  https://www.computer.org/csdl/proceedings-arti...   \n",
       "18352  https://kingdigest.beehiiv.com/p/100-things-an...   \n",
       "18353  https://chat.openai.com/g/g-TfQkxgXbK-code-cop...   \n",
       "18354  https://www.theguardian.com/environment/articl...   \n",
       "18355                 https://github.com/litongjava/mpip   \n",
       "\n",
       "                       domain  votes           user            posted_at  \\\n",
       "0                  nature.com      1          Hooke  2024-04-01 04:10:54   \n",
       "1                     npr.org      1        cempaka  2024-04-01 04:13:32   \n",
       "2                 sapiens.org      1       diodorus  2024-04-01 04:14:25   \n",
       "3        lcamtuf.substack.com      2         dchest  2024-04-01 04:19:01   \n",
       "4           github.com/fxnoob      1       fxnoob71  2024-04-01 04:21:20   \n",
       "...                       ...    ...            ...                  ...   \n",
       "18351            computer.org      1        TamTech  2024-05-21 07:08:00   \n",
       "18352  kingdigest.beehiiv.com      1   danielkrol86  2024-05-21 07:08:24   \n",
       "18353         chat.openai.com      1     BabyJordan  2024-05-21 07:10:26   \n",
       "18354         theguardian.com      4  manuelmoreale  2024-05-21 07:18:03   \n",
       "18355   github.com/litongjava      1     litongjava  2024-05-21 07:20:58   \n",
       "\n",
       "       comments                                       source_title  \\\n",
       "0             0  A human–AI collaboration workflow for archaeol...   \n",
       "1             0  A new podcast examines the perils of intense m...   \n",
       "2             0     Ancient Pollen Is Hiding in a Surprising Place   \n",
       "3             0           OSS backdoors: the folly of the easy fix   \n",
       "4             0  GitHub - fxnoob/manifest.js: Successor of http...   \n",
       "...         ...                                                ...   \n",
       "18351         0  A Tale of Two Industroyers: It was the Season ...   \n",
       "18352         0     👑King Digest: 100 things announced at I/O 2024   \n",
       "18353         0                          ChatGPT - Code Copilot AI   \n",
       "18354         0  I invented a pedal-powered home office. Now I ...   \n",
       "18355         0  GitHub - litongjava/mpip: python pckage manage...   \n",
       "\n",
       "                                             source_text  frontpage  \n",
       "0      A human–AI collaboration workflow for archaeol...      False  \n",
       "1      Meditation can have dangerous effects on menta...      False  \n",
       "2      Ancient Pollen Is Hiding in a Surprising Place...      False  \n",
       "3      OSS backdoors: the folly of the easy fix - lca...      False  \n",
       "4      GitHub - fxnoob/manifest.js: Successor of http...      False  \n",
       "...                                                  ...        ...  \n",
       "18351  A Tale of Two Industroyers: It was the Season ...      False  \n",
       "18352  👑King Digest: 100 things announced at I/O 2024...      False  \n",
       "18353  ChatGPT - Code Copilot AI\\n\\nSign up\\n\\nCode C...      False  \n",
       "18354  I invented a pedal-powered home office. Now I ...       True  \n",
       "18355  GitHub - litongjava/mpip: python pckage manage...      False  \n",
       "\n",
       "[18356 rows x 11 columns]"
      ]
     },
     "execution_count": 17,
     "metadata": {},
     "output_type": "execute_result"
    }
   ],
   "source": [
    "## load in the dataset as pandas dataframe\n",
    "# df = pd.read_csv(\"assignment3_full.csv\")\n",
    "# df"
   ]
  },
  {
   "cell_type": "code",
   "execution_count": 41,
   "id": "ccae520b",
   "metadata": {},
   "outputs": [],
   "source": [
    "## load in the dataset as pandas dataframe\n",
    "df = pd.read_csv(\"assignment3_full.csv\")\n",
    "## turn our label into a binary variable\n",
    "df['frontpage'] = df['frontpage'].astype(int)\n",
    "## use a sample of the data to use less memory\n",
    "# df = df.sample(frac=0.1, random_state=1)\n",
    "## subset by label and variable we wish to featurise, to use less memory\n",
    "df = df[['frontpage','title', 'votes', 'comments']]"
   ]
  },
  {
   "cell_type": "code",
   "execution_count": 42,
   "id": "35e144ba",
   "metadata": {},
   "outputs": [
    {
     "name": "stdout",
     "output_type": "stream",
     "text": [
      "Training Dataset Count: 14684\n",
      "Test Dataset Count: 3672\n"
     ]
    }
   ],
   "source": [
    "## Split Train/Test data\n",
    "train, test= train_test_split(df, test_size=0.2, random_state=1)\n",
    "print(\"Training Dataset Count: \" + str(train.shape[0]))\n",
    "print(\"Test Dataset Count: \" + str(test.shape[0]))"
   ]
  },
  {
   "cell_type": "code",
   "execution_count": 43,
   "id": "a1628b9c",
   "metadata": {},
   "outputs": [
    {
     "data": {
      "image/png": "[encoded data removed]",
      "text/plain": [
       "<Figure size 800x600 with 1 Axes>"
      ]
     },
     "metadata": {},
     "output_type": "display_data"
    }
   ],
   "source": [
    "train_outlier=train[train.votes>500]\n",
    "train_plot=train.drop(train_outlier.index)\n",
    "\n",
    "jitter_strength = 0.1\n",
    "jittered_frontpage = train_plot['frontpage'] + np.random.uniform(-jitter_strength, jitter_strength, size=train_plot.shape[0])\n",
    "\n",
    "# Create scatter plot\n",
    "plt.figure(figsize=(8, 6))\n",
    "sns.scatterplot(x=jittered_frontpage, y=train_plot['votes'])\n",
    "plt.show()"
   ]
  },
  {
   "cell_type": "code",
   "execution_count": 44,
   "id": "a5d0dbfe",
   "metadata": {},
   "outputs": [],
   "source": [
    "## create a spark DataFrame out of our pandas DataFrame\n",
    "spark_train = spark.createDataFrame(train)\n",
    "spark_test = spark.createDataFrame(test)\n",
    "#spark_df = spark_df.sample(withReplacement=False, fraction=0.1, seed=1)\n",
    "## repartition the df (may make it easier to process)\n",
    "spark_train = spark_train.repartition(4)\n",
    "spark_test = spark_test.repartition(4)"
   ]
  },
  {
   "cell_type": "code",
   "execution_count": 45,
   "id": "5e89e08d",
   "metadata": {
    "scrolled": true
   },
   "outputs": [
    {
     "name": "stdout",
     "output_type": "stream",
     "text": [
      "+---------+--------------------+-----+--------+\n",
      "|frontpage|               title|votes|comments|\n",
      "+---------+--------------------+-----+--------+\n",
      "|        0|Exposure to poor ...|    2|       0|\n",
      "|        0|OpenSSF Warns of ...|    2|       0|\n",
      "|        0|How do Spotify Co...|    1|       0|\n",
      "|        0|FDA says 1 in 5 s...|    3|       0|\n",
      "|        0|Sequoia commits t...|    2|       2|\n",
      "|        0|Experimental obes...|    1|       0|\n",
      "|        0|Dopamine Nation: ...|    1|       0|\n",
      "|        1|New scanning elec...|    8|       0|\n",
      "|        0|Show HN: Meeting ...|    1|       0|\n",
      "|        0|NASA's Chandra Re...|    2|       0|\n",
      "|        0|           500 Miles|    1|       0|\n",
      "|        0|Anonymizing resea...|    1|       0|\n",
      "|        0|Little Helper – A...|    1|       0|\n",
      "|        0|Open Source's Fun...|    1|       0|\n",
      "|        1|The Gift of Ambition|    3|       0|\n",
      "|        1|What do you call ...|   26|       2|\n",
      "|        0|Harnessing Geothe...|    2|       0|\n",
      "|        0|Jerry Seinfeld’s ...|    1|       0|\n",
      "|        0|    Kangaroo Leather|    1|       0|\n",
      "|        0|What Does a Confi...|    1|       0|\n",
      "+---------+--------------------+-----+--------+\n",
      "only showing top 20 rows\n",
      "\n"
     ]
    }
   ],
   "source": [
    "## show contents of the DataFrame\n",
    "spark_train.show()"
   ]
  },
  {
   "cell_type": "code",
   "execution_count": 46,
   "id": "aaf0c45c",
   "metadata": {
    "scrolled": true
   },
   "outputs": [
    {
     "name": "stdout",
     "output_type": "stream",
     "text": [
      "+---------+--------------------+--------------------+\n",
      "|frontpage|               title|         title_words|\n",
      "+---------+--------------------+--------------------+\n",
      "|        1|Unearthing APT44:...|[unearthing, apt4...|\n",
      "|        1|Tesla's 2M car Au...|[tesla, s, 2m, ca...|\n",
      "|        0|   The Pen, Mightier|[the, pen, mightier]|\n",
      "|        0|How to Exploit a ...|[how, to, exploit...|\n",
      "|        0|        Westward Ho!|      [westward, ho]|\n",
      "+---------+--------------------+--------------------+\n",
      "only showing top 5 rows\n",
      "\n"
     ]
    }
   ],
   "source": [
    "## convert our variable of text into list of words\n",
    "tokenizer = RegexTokenizer(inputCol=\"title\", outputCol=\"title_words\", pattern=\"\\\\W\")\n",
    "\n",
    "## adds a column of our tokenised words to df\n",
    "spark_train_tokenised = tokenizer.transform(spark_train)\n",
    "\n",
    "## show contents of the DF\n",
    "spark_train_tokenised.select(['frontpage','title', 'title_words']).show(5)"
   ]
  },
  {
   "cell_type": "code",
   "execution_count": 47,
   "id": "97616207",
   "metadata": {
    "scrolled": true
   },
   "outputs": [],
   "source": [
    "## stopwords remove to remove common, uninformative words\n",
    "stopwords_remover = StopWordsRemover(inputCol=\"title_words\", outputCol=\"f_title_words\")\n",
    "\n",
    "## adds a column of the filtered words to df\n",
    "spark_train_stopwordless = stopwords_remover.transform(spark_train_tokenised)"
   ]
  },
  {
   "cell_type": "code",
   "execution_count": 48,
   "id": "70685702",
   "metadata": {},
   "outputs": [
    {
     "name": "stdout",
     "output_type": "stream",
     "text": [
      "+---------+--------------------+--------------------+--------------------+\n",
      "|frontpage|               title|         title_words|       f_title_words|\n",
      "+---------+--------------------+--------------------+--------------------+\n",
      "|        1|Unearthing APT44:...|[unearthing, apt4...|[unearthing, apt4...|\n",
      "|        1|Tesla's 2M car Au...|[tesla, s, 2m, ca...|[tesla, 2m, car, ...|\n",
      "|        0|   The Pen, Mightier|[the, pen, mightier]|     [pen, mightier]|\n",
      "|        0|How to Exploit a ...|[how, to, exploit...|[exploit, buffer,...|\n",
      "|        0|        Westward Ho!|      [westward, ho]|      [westward, ho]|\n",
      "+---------+--------------------+--------------------+--------------------+\n",
      "only showing top 5 rows\n",
      "\n"
     ]
    }
   ],
   "source": [
    "## print the contents of the DF\n",
    "spark_train_stopwordless.select(['frontpage','title', 'title_words', 'f_title_words']).show(5)"
   ]
  },
  {
   "cell_type": "code",
   "execution_count": 49,
   "id": "02d62f73",
   "metadata": {},
   "outputs": [],
   "source": [
    "## Calculate term frequency in each article\n",
    "hashing_tf = HashingTF(inputCol=\"f_title_words\",\n",
    "                       outputCol=\"raw_features\", \n",
    "                       numFeatures=256)\n",
    "\n",
    "## adds raw tf features to the DF\n",
    "featurized_data = hashing_tf.transform(spark_train_stopwordless)"
   ]
  },
  {
   "cell_type": "code",
   "execution_count": 50,
   "id": "2d63c61c",
   "metadata": {
    "scrolled": true
   },
   "outputs": [
    {
     "name": "stdout",
     "output_type": "stream",
     "text": [
      "+---------+--------------------+--------------------+--------------------+--------------------+\n",
      "|frontpage|               title|         title_words|       f_title_words|      title_features|\n",
      "+---------+--------------------+--------------------+--------------------+--------------------+\n",
      "|        1|Unearthing APT44:...|[unearthing, apt4...|[unearthing, apt4...|(256,[63,96,121,1...|\n",
      "|        1|Tesla's 2M car Au...|[tesla, s, 2m, ca...|[tesla, 2m, car, ...|(256,[35,59,73,15...|\n",
      "|        0|   The Pen, Mightier|[the, pen, mightier]|     [pen, mightier]|(256,[63,186],[3....|\n",
      "|        0|How to Exploit a ...|[how, to, exploit...|[exploit, buffer,...|(256,[44,105,197]...|\n",
      "|        0|        Westward Ho!|      [westward, ho]|      [westward, ho]|(256,[22,249],[4....|\n",
      "|        0|Show HN: Building...|[show, hn, buildi...|[show, hn, buildi...|(256,[14,60,110,1...|\n",
      "|        1|Changes from Visa...|[changes, from, v...|[changes, visa, m...|(256,[3,79,88,89,...|\n",
      "|        0|CSS Flags – Flags...|[css, flags, flag...|[css, flags, flag...|(256,[13,32,176,2...|\n",
      "|        0|Chinese failed wi...|[chinese, failed,...|[chinese, failed,...|(256,[75,78,90,19...|\n",
      "|        0|The use of ADHD m...|[the, use, of, ad...|[use, adhd, medic...|(256,[33,37,46,51...|\n",
      "|        0|Three Myths About...|[three, myths, ab...|[three, myths, sc...|(256,[5,31,59,159...|\n",
      "|        0|             ToaruOS|           [toaruos]|           [toaruos]|(256,[172],[4.311...|\n",
      "|        1|APFS Migration: A...|[apfs, migration,...|[apfs, migration,...|(256,[5,38,198,20...|\n",
      "|        0|SSRN: An integrat...|[ssrn, an, integr...|[ssrn, integrated...|(256,[9,30,114,13...|\n",
      "|        0|Bantam NextDraw (...|[bantam, nextdraw...|[bantam, nextdraw...|(256,[22,90,106,1...|\n",
      "|        1|YouTube algorithm...|[youtube, algorit...|[youtube, algorit...|(256,[15,19,23,25...|\n",
      "|        0|Monitoring energy...|[monitoring, ener...|[monitoring, ener...|(256,[6,57,66,79,...|\n",
      "|        0|Big Lessons from ...|[big, lessons, fr...|[big, lessons, ha...|(256,[88,248],[6....|\n",
      "|        0|Llama 3 is now up...|[llama, 3, is, no...|  [llama, 3, webllm]|(256,[84,111,142]...|\n",
      "|        0|A Living Hitory N...|[a, living, hitor...|[living, hitory, ...|(256,[32,92,115],...|\n",
      "+---------+--------------------+--------------------+--------------------+--------------------+\n",
      "only showing top 20 rows\n",
      "\n"
     ]
    }
   ],
   "source": [
    "## Inverse document frequency\n",
    "idf = IDF(inputCol=\"raw_features\", outputCol=\"title_features\")\n",
    "\n",
    "idf_vectorizer = idf.fit(featurized_data)\n",
    "\n",
    "## converting text to vectors\n",
    "rescaled_data = idf_vectorizer.transform(featurized_data)\n",
    "\n",
    "## display the top 20 rows\n",
    "rescaled_data.select('frontpage','title', 'title_words', 'f_title_words', \"title_features\").show()"
   ]
  },
  {
   "cell_type": "code",
   "execution_count": 51,
   "id": "94518cfe",
   "metadata": {},
   "outputs": [],
   "source": [
    "assembler = VectorAssembler(inputCols=['title_features', 'votes', 'comments'],outputCol=\"features\")\n",
    "rescaled_data = assembler.transform(rescaled_data)"
   ]
  },
  {
   "cell_type": "code",
   "execution_count": 52,
   "id": "86ba6431",
   "metadata": {},
   "outputs": [],
   "source": [
    "#### TEST #### WITHOUT #### TEXT #### FEATURES ####\n",
    "\n",
    "# assembler = VectorAssembler(inputCols=['votes', 'comments'],outputCol=\"features\")\n",
    "# rescaled_data = assembler.transform(rescaled_data)"
   ]
  },
  {
   "cell_type": "code",
   "execution_count": 53,
   "id": "dd542f8e",
   "metadata": {
    "scrolled": false
   },
   "outputs": [],
   "source": [
    "## model object\n",
    "lr = LogisticRegression(featuresCol='features',\n",
    "                        labelCol='frontpage',\n",
    "                        family=\"auto\",\n",
    "                        maxIter=50)\n",
    "\n",
    "## train model with default parameters\n",
    "lrModel = lr.fit(rescaled_data)"
   ]
  },
  {
   "cell_type": "code",
   "execution_count": null,
   "id": "3465d47c",
   "metadata": {},
   "outputs": [],
   "source": [
    "# Test-set Accuracy is :  0.9821321961620465 with the text features\n",
    "# Test-set Accuracy is :  0.9884550155625812 without the text features"
   ]
  },
  {
   "cell_type": "markdown",
   "id": "3f67bff9",
   "metadata": {},
   "source": [
    "## Model Pipeline"
   ]
  },
  {
   "cell_type": "code",
   "execution_count": 57,
   "id": "3b2e1637",
   "metadata": {},
   "outputs": [],
   "source": [
    "# pipeline staging area\n",
    "tokenizer = RegexTokenizer(inputCol=\"title\", outputCol=\"title_words\", pattern=\"\\\\W\")\n",
    "stopwords_remover = StopWordsRemover(inputCol=\"title_words\", outputCol=\"f_title_words\")\n",
    "hashing_tf = HashingTF(inputCol=\"f_title_words\",\n",
    "                       outputCol=\"raw_features\", \n",
    "                       numFeatures=256)\n",
    "idf = IDF(inputCol=\"raw_features\", outputCol=\"title_features\")\n",
    "assembler = VectorAssembler(inputCols=['title_features', 'votes', 'comments'],outputCol=\"features\")\n",
    "lr = LogisticRegression(featuresCol='features',\n",
    "                        labelCol='frontpage',\n",
    "                        family=\"auto\",\n",
    "                        maxIter=50)"
   ]
  },
  {
   "cell_type": "code",
   "execution_count": 58,
   "id": "a42ccf51",
   "metadata": {},
   "outputs": [],
   "source": [
    "pipeline = Pipeline(stages=[tokenizer, stopwords_remover, hashing_tf, idf, assembler, lr])"
   ]
  },
  {
   "cell_type": "code",
   "execution_count": 59,
   "id": "1d70fa62",
   "metadata": {},
   "outputs": [],
   "source": [
    "model=pipeline.fit(spark_train)"
   ]
  },
  {
   "cell_type": "code",
   "execution_count": 60,
   "id": "f7c42278",
   "metadata": {},
   "outputs": [],
   "source": [
    "model_path = \"C:\\\\Users\\\\Dillon\\\\Desktop\\\\spark\\\\notebooks\\\\models\"\n",
    "model.write().overwrite().save(model_path)"
   ]
  },
  {
   "cell_type": "code",
   "execution_count": 61,
   "id": "ad06d712",
   "metadata": {},
   "outputs": [],
   "source": [
    "pred_model = PipelineModel.load(model_path)"
   ]
  },
  {
   "cell_type": "code",
   "execution_count": 62,
   "id": "4c690346",
   "metadata": {},
   "outputs": [],
   "source": [
    "predictions = pred_model.transform(spark_test)"
   ]
  },
  {
   "cell_type": "code",
   "execution_count": 63,
   "id": "334b1c21",
   "metadata": {},
   "outputs": [
    {
     "name": "stdout",
     "output_type": "stream",
     "text": [
      "+--------------------+-----+--------+--------------------+----------+---------+\n",
      "|               title|votes|comments|         probability|prediction|frontpage|\n",
      "+--------------------+-----+--------+--------------------+----------+---------+\n",
      "|Glitch on BepiCol...|    2|       0|[0.91989247679589...|       0.0|        0|\n",
      "|Petflix, the Vide...|    2|       0|[0.97834281919763...|       0.0|        0|\n",
      "|Reverse Engineeri...|    1|       0|[0.98335741258370...|       0.0|        0|\n",
      "|  American Flag Sort|   16|       0|[1.00441332701935...|       1.0|        1|\n",
      "|A Visit to id Sof...|    1|       0|[0.98063894842531...|       0.0|        0|\n",
      "|Design Principles...|    2|       0|[0.93663699072590...|       0.0|        0|\n",
      "|Mozilla commissio...|    1|       0|[0.98213224014309...|       0.0|        0|\n",
      "|Littlejohn and th...|    1|       0|[0.97237696274965...|       0.0|        0|\n",
      "|Party Like It's 1...|    1|       0|[0.95815858549980...|       0.0|        0|\n",
      "|Video codec writt...|    2|       0|[0.86585695141039...|       0.0|        0|\n",
      "|Hundreds evicted ...|    2|       0|[0.88678916725031...|       0.0|        0|\n",
      "|SVG Viewer – View...|   60|       9|[2.43308279419496...|       1.0|        1|\n",
      "|\"Testing can show...|    1|       0|[0.98736670264680...|       0.0|        0|\n",
      "|I removed a front...|    1|       0|[0.92515931462812...|       0.0|        0|\n",
      "|What the Heck Is ...|    2|       0|[0.94184217072266...|       0.0|        0|\n",
      "|Criterion Collect...|    2|       0|[0.92944089944164...|       0.0|        0|\n",
      "|Why you shouldn't...|    2|       0|[0.94245495696135...|       0.0|        0|\n",
      "|Searchformer: Bey...|    6|       0|[0.32655922031838...|       1.0|        1|\n",
      "|HashiCorp reporte...|    4|       0|[0.86616016231501...|       0.0|        0|\n",
      "|How to Fight Impo...|    1|       0|[0.97450668767211...|       0.0|        0|\n",
      "+--------------------+-----+--------+--------------------+----------+---------+\n",
      "only showing top 20 rows\n",
      "\n"
     ]
    }
   ],
   "source": [
    "predictions.select(\"title\", \"votes\", \"comments\", \"probability\", \"prediction\", \"frontpage\").show()"
   ]
  },
  {
   "cell_type": "code",
   "execution_count": 64,
   "id": "862ad2c8",
   "metadata": {},
   "outputs": [
    {
     "name": "stdout",
     "output_type": "stream",
     "text": [
      "Test-set Accuracy is :  0.9823342678100264\n"
     ]
    }
   ],
   "source": [
    "## to evalute model\n",
    "evaluator = BinaryClassificationEvaluator(labelCol=\"frontpage\")\n",
    "\n",
    "## print test accuracy\n",
    "print(\"Test-set Accuracy is : \", evaluator.evaluate(predictions))"
   ]
  },
  {
   "cell_type": "code",
   "execution_count": null,
   "id": "80ff2a79",
   "metadata": {},
   "outputs": [],
   "source": []
  },
  {
   "cell_type": "code",
   "execution_count": null,
   "id": "b54479f6",
   "metadata": {},
   "outputs": [],
   "source": []
  },
  {
   "cell_type": "code",
   "execution_count": null,
   "id": "80ae4435",
   "metadata": {},
   "outputs": [],
   "source": []
  },
  {
   "cell_type": "code",
   "execution_count": null,
   "id": "05d2faf3",
   "metadata": {},
   "outputs": [],
   "source": []
  },
  {
   "cell_type": "code",
   "execution_count": null,
   "id": "1956d68c",
   "metadata": {},
   "outputs": [],
   "source": []
  },
  {
   "cell_type": "code",
   "execution_count": null,
   "id": "3a58b686",
   "metadata": {},
   "outputs": [],
   "source": []
  },
  {
   "cell_type": "code",
   "execution_count": null,
   "id": "e956194f",
   "metadata": {},
   "outputs": [],
   "source": []
  },
  {
   "cell_type": "code",
   "execution_count": null,
   "id": "fbad0c84",
   "metadata": {},
   "outputs": [],
   "source": []
  },
  {
   "cell_type": "code",
   "execution_count": null,
   "id": "9b606ca8",
   "metadata": {},
   "outputs": [],
   "source": []
  },
  {
   "cell_type": "code",
   "execution_count": null,
   "id": "66bcb4ba",
   "metadata": {},
   "outputs": [],
   "source": []
  },
  {
   "cell_type": "code",
   "execution_count": null,
   "id": "ca5e50a7",
   "metadata": {},
   "outputs": [],
   "source": []
  },
  {
   "cell_type": "code",
   "execution_count": null,
   "id": "df64c1d8",
   "metadata": {},
   "outputs": [],
   "source": []
  },
  {
   "cell_type": "code",
   "execution_count": null,
   "id": "982d950d",
   "metadata": {},
   "outputs": [],
   "source": []
  },
  {
   "cell_type": "code",
   "execution_count": null,
   "id": "66433b47",
   "metadata": {},
   "outputs": [],
   "source": []
  },
  {
   "cell_type": "code",
   "execution_count": null,
   "id": "b250fe0c",
   "metadata": {},
   "outputs": [],
   "source": []
  },
  {
   "cell_type": "code",
   "execution_count": null,
   "id": "4461732a",
   "metadata": {},
   "outputs": [],
   "source": []
  },
  {
   "cell_type": "code",
   "execution_count": null,
   "id": "89268c4f",
   "metadata": {},
   "outputs": [],
   "source": []
  }
 ],
 "metadata": {
  "kernelspec": {
   "display_name": "Python 3 (ipykernel)",
   "language": "python",
   "name": "python3"
  },
  "language_info": {
   "codemirror_mode": {
    "name": "ipython",
    "version": 3
   },
   "file_extension": ".py",
   "mimetype": "text/x-python",
   "name": "python",
   "nbconvert_exporter": "python",
   "pygments_lexer": "ipython3",
   "version": "3.11.5"
  }
 },
 "nbformat": 4,
 "nbformat_minor": 5
}
